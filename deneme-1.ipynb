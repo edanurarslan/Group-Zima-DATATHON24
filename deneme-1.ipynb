{
 "cells": [
  {
   "cell_type": "markdown",
   "id": "9f049f7f-3fec-437c-b6ae-58894ed6396e",
   "metadata": {},
   "source": [
    "### 1. **Veri Hazırlığı**\n",
    "   - Verinin temizlenmesi ve hazırlanması bu projede ilk adım olacak. Kayıp değerler, gereksiz sütunlar ve kategorik verilerin işlenmesi önemlidir.\n",
    "\n",
    "### 2. **Özellik Seçimi**\n",
    "   - Veride çok fazla özellik bulunduğu için, model performansını optimize etmek amacıyla hangi özelliklerin değerlendirme puanını tahmin etmeye yardımcı olacağını belirlemek gerekir. Özellik mühendisliği ve korelasyon analizleri bu aşamada kullanılabilir.\n",
    "\n",
    "### 3. **Veriyi Eğitim ve Test Setlerine Ayırma**\n",
    "   - Modelin doğruluğunu ölçmek için veri setini eğitim ve test setlerine ayırmalıyız.\n",
    "\n",
    "### 4. **Model Seçimi**\n",
    "   - RMSE metriği, regresyon modelleri için uygundur. Lineer regresyon, XGBoost, Random Forest gibi regresyon modellerini deneyebiliriz.\n",
    "\n",
    "### 5. **Modeli Eğitme ve Test Etme**\n",
    "   - Seçilen modeli eğittikten sonra, test verisi üzerinde performansını ölçebiliriz.\n",
    "\n",
    "### 6. **Modelin Performansını Değerlendirme**\n",
    "   - Modelin RMSE skorunu hesaplayarak başarısını değerlendiririz."
   ]
  },
  {
   "cell_type": "markdown",
   "id": "7b770cb2-9517-4d73-a39b-08444e1b0426",
   "metadata": {},
   "source": [
    "1. Veri Hazırlığı"
   ]
  },
  {
   "cell_type": "code",
   "execution_count": 1,
   "id": "0df1ca01-eb19-46c4-ac5a-36d8e675cf29",
   "metadata": {},
   "outputs": [
    {
     "name": "stderr",
     "output_type": "stream",
     "text": [
      "C:\\Users\\edana\\AppData\\Local\\Temp\\ipykernel_21564\\907667230.py:5: DtypeWarning: Columns (13,15,19,30,32,37,41,42) have mixed types. Specify dtype option on import or set low_memory=False.\n",
      "  data = pd.read_csv(\"datathon-2024/train.csv\")\n"
     ]
    },
    {
     "name": "stdout",
     "output_type": "stream",
     "text": [
      "Basvuru Yili                                                     0\n",
      "Degerlendirme Puani                                              1\n",
      "Cinsiyet                                                       169\n",
      "Dogum Tarihi                                                   177\n",
      "Dogum Yeri                                                     791\n",
      "Ikametgah Sehri                                               2037\n",
      "Universite Adi                                                 132\n",
      "Universite Turu                                                255\n",
      "Burslu ise Burs Yuzdesi                                      42685\n",
      "Burs Aliyor mu?                                                  0\n",
      "Bölüm                                                          231\n",
      "Universite Kacinci Sinif                                       374\n",
      "Universite Not Ortalamasi                                     2753\n",
      "Daha Once Baska Bir Universiteden Mezun Olmus                37345\n",
      "Lise Adi                                                       384\n",
      "Lise Adi Diger                                               60392\n",
      "Lise Sehir                                                    1054\n",
      "Lise Turu                                                      847\n",
      "Lise Bolumu                                                   1009\n",
      "Lise Bolum Diger                                             63599\n",
      "Lise Mezuniyet Notu                                           5917\n",
      "Baska Bir Kurumdan Burs Aliyor mu?                             231\n",
      "Burs Aldigi Baska Kurum                                      43977\n",
      "Baska Kurumdan Aldigi Burs Miktari                           44162\n",
      "Anne Egitim Durumu                                             406\n",
      "Anne Calisma Durumu                                          11896\n",
      "Anne Sektor                                                  34537\n",
      "Baba Egitim Durumu                                            1007\n",
      "Baba Calisma Durumu                                          12618\n",
      "Baba Sektor                                                  20378\n",
      "Kardes Sayisi                                                 1132\n",
      "Girisimcilik Kulupleri Tarzi Bir Kulube Uye misiniz?          1829\n",
      "Uye Oldugunuz Kulubun Ismi                                   48691\n",
      "Profesyonel Bir Spor Daliyla Mesgul musunuz?                  1115\n",
      "Spor Dalindaki Rolunuz Nedir?                                32275\n",
      "Aktif olarak bir STK üyesi misiniz?                          12842\n",
      "Hangi STK'nin Uyesisiniz?                                    49518\n",
      "Stk Projesine Katildiniz Mi?                                 28308\n",
      "Girisimcilikle Ilgili Deneyiminiz Var Mi?                    12840\n",
      "Girisimcilikle Ilgili Deneyiminizi Aciklayabilir misiniz?    50526\n",
      "Ingilizce Biliyor musunuz?                                    6454\n",
      "Ingilizce Seviyeniz?                                         36533\n",
      "Daha Önceden Mezun Olunduysa, Mezun Olunan Üniversite        64706\n",
      "id                                                               0\n",
      "dtype: int64\n"
     ]
    }
   ],
   "source": [
    "import pandas as pd\n",
    "from sklearn.model_selection import train_test_split\n",
    "\n",
    "# Veriyi yükle\n",
    "data = pd.read_csv(\"datathon-2024/train.csv\")\n",
    "\n",
    "# Eksik verileri kontrol et\n",
    "print(data.isnull().sum())\n",
    "\n",
    "# Kategorik sütunları sayısal verilere dönüştürme (örneğin, OneHot Encoding)\n",
    "data = pd.get_dummies(data, drop_first=True)\n",
    "\n",
    "# Gereksiz sütunları kaldır (id sütunu model için gerekli değil)\n",
    "data = data.drop(['id'], axis=1)"
   ]
  },
  {
   "cell_type": "markdown",
   "id": "a0701ccf-8838-459f-b10f-118fbe937f89",
   "metadata": {},
   "source": [
    "2. Özellik Seçimi\n",
    "\n",
    "Korelasyon analizi ile hangi özelliklerin değerlendirme puanını etkilediğini kontrol edebiliriz."
   ]
  },
  {
   "cell_type": "code",
   "execution_count": 2,
   "id": "e146810b-ea23-4879-b473-23c9872276aa",
   "metadata": {},
   "outputs": [
    {
     "ename": "MemoryError",
     "evalue": "Unable to allocate 6.06 GiB for an array with shape (99994, 65125) and data type bool",
     "output_type": "error",
     "traceback": [
      "\u001b[1;31m---------------------------------------------------------------------------\u001b[0m",
      "\u001b[1;31mMemoryError\u001b[0m                               Traceback (most recent call last)",
      "Cell \u001b[1;32mIn[2], line 6\u001b[0m\n\u001b[0;32m      3\u001b[0m \u001b[38;5;28;01mimport\u001b[39;00m \u001b[38;5;21;01mmatplotlib\u001b[39;00m\u001b[38;5;21;01m.\u001b[39;00m\u001b[38;5;21;01mpyplot\u001b[39;00m \u001b[38;5;28;01mas\u001b[39;00m \u001b[38;5;21;01mplt\u001b[39;00m\n\u001b[0;32m      5\u001b[0m \u001b[38;5;66;03m# Kategorik sütunları sayısal verilere dönüştürme (One-Hot Encoding)\u001b[39;00m\n\u001b[1;32m----> 6\u001b[0m data_encoded \u001b[38;5;241m=\u001b[39m pd\u001b[38;5;241m.\u001b[39mget_dummies(data, drop_first\u001b[38;5;241m=\u001b[39m\u001b[38;5;28;01mTrue\u001b[39;00m)\n\u001b[0;32m      8\u001b[0m \u001b[38;5;66;03m# Korelasyon matrisi oluşturma\u001b[39;00m\n\u001b[0;32m      9\u001b[0m corr_matrix \u001b[38;5;241m=\u001b[39m data_encoded\u001b[38;5;241m.\u001b[39mcorr()\n",
      "File \u001b[1;32m~\\anaconda3\\Lib\\site-packages\\pandas\\core\\reshape\\encoding.py:210\u001b[0m, in \u001b[0;36mget_dummies\u001b[1;34m(data, prefix, prefix_sep, dummy_na, columns, sparse, drop_first, dtype)\u001b[0m\n\u001b[0;32m    206\u001b[0m     with_dummies \u001b[38;5;241m=\u001b[39m [data\u001b[38;5;241m.\u001b[39mdrop(columns, axis\u001b[38;5;241m=\u001b[39m\u001b[38;5;241m1\u001b[39m)]\n\u001b[0;32m    207\u001b[0m \u001b[38;5;28;01melse\u001b[39;00m:\n\u001b[0;32m    208\u001b[0m     \u001b[38;5;66;03m# Encoding only object and category dtype columns. Get remaining\u001b[39;00m\n\u001b[0;32m    209\u001b[0m     \u001b[38;5;66;03m# columns to prepend to result.\u001b[39;00m\n\u001b[1;32m--> 210\u001b[0m     with_dummies \u001b[38;5;241m=\u001b[39m [data\u001b[38;5;241m.\u001b[39mselect_dtypes(exclude\u001b[38;5;241m=\u001b[39mdtypes_to_encode)]\n\u001b[0;32m    212\u001b[0m \u001b[38;5;28;01mfor\u001b[39;00m col, pre, sep \u001b[38;5;129;01min\u001b[39;00m \u001b[38;5;28mzip\u001b[39m(data_to_encode\u001b[38;5;241m.\u001b[39mitems(), prefix, prefix_sep):\n\u001b[0;32m    213\u001b[0m     \u001b[38;5;66;03m# col is (column_name, column), use just column data here\u001b[39;00m\n\u001b[0;32m    214\u001b[0m     dummy \u001b[38;5;241m=\u001b[39m _get_dummies_1d(\n\u001b[0;32m    215\u001b[0m         col[\u001b[38;5;241m1\u001b[39m],\n\u001b[0;32m    216\u001b[0m         prefix\u001b[38;5;241m=\u001b[39mpre,\n\u001b[1;32m   (...)\u001b[0m\n\u001b[0;32m    221\u001b[0m         dtype\u001b[38;5;241m=\u001b[39mdtype,\n\u001b[0;32m    222\u001b[0m     )\n",
      "File \u001b[1;32m~\\anaconda3\\Lib\\site-packages\\pandas\\core\\frame.py:5091\u001b[0m, in \u001b[0;36mDataFrame.select_dtypes\u001b[1;34m(self, include, exclude)\u001b[0m\n\u001b[0;32m   5087\u001b[0m             \u001b[38;5;28;01mreturn\u001b[39;00m \u001b[38;5;28;01mFalse\u001b[39;00m\n\u001b[0;32m   5089\u001b[0m     \u001b[38;5;28;01mreturn\u001b[39;00m \u001b[38;5;28;01mTrue\u001b[39;00m\n\u001b[1;32m-> 5091\u001b[0m mgr \u001b[38;5;241m=\u001b[39m \u001b[38;5;28mself\u001b[39m\u001b[38;5;241m.\u001b[39m_mgr\u001b[38;5;241m.\u001b[39m_get_data_subset(predicate)\u001b[38;5;241m.\u001b[39mcopy(deep\u001b[38;5;241m=\u001b[39m\u001b[38;5;28;01mNone\u001b[39;00m)\n\u001b[0;32m   5092\u001b[0m \u001b[38;5;66;03m# error: Incompatible return value type (got \"DataFrame\", expected \"Self\")\u001b[39;00m\n\u001b[0;32m   5093\u001b[0m \u001b[38;5;28;01mreturn\u001b[39;00m \u001b[38;5;28mself\u001b[39m\u001b[38;5;241m.\u001b[39m_constructor_from_mgr(mgr, axes\u001b[38;5;241m=\u001b[39mmgr\u001b[38;5;241m.\u001b[39maxes)\u001b[38;5;241m.\u001b[39m__finalize__(\u001b[38;5;28mself\u001b[39m)\n",
      "File \u001b[1;32m~\\anaconda3\\Lib\\site-packages\\pandas\\core\\internals\\managers.py:604\u001b[0m, in \u001b[0;36mBaseBlockManager.copy\u001b[1;34m(self, deep)\u001b[0m\n\u001b[0;32m    601\u001b[0m         res\u001b[38;5;241m.\u001b[39m_blklocs \u001b[38;5;241m=\u001b[39m \u001b[38;5;28mself\u001b[39m\u001b[38;5;241m.\u001b[39m_blklocs\u001b[38;5;241m.\u001b[39mcopy()\n\u001b[0;32m    603\u001b[0m \u001b[38;5;28;01mif\u001b[39;00m deep:\n\u001b[1;32m--> 604\u001b[0m     res\u001b[38;5;241m.\u001b[39m_consolidate_inplace()\n\u001b[0;32m    605\u001b[0m \u001b[38;5;28;01mreturn\u001b[39;00m res\n",
      "File \u001b[1;32m~\\anaconda3\\Lib\\site-packages\\pandas\\core\\internals\\managers.py:1788\u001b[0m, in \u001b[0;36mBlockManager._consolidate_inplace\u001b[1;34m(self)\u001b[0m\n\u001b[0;32m   1782\u001b[0m \u001b[38;5;28;01mdef\u001b[39;00m \u001b[38;5;21m_consolidate_inplace\u001b[39m(\u001b[38;5;28mself\u001b[39m) \u001b[38;5;241m-\u001b[39m\u001b[38;5;241m>\u001b[39m \u001b[38;5;28;01mNone\u001b[39;00m:\n\u001b[0;32m   1783\u001b[0m     \u001b[38;5;66;03m# In general, _consolidate_inplace should only be called via\u001b[39;00m\n\u001b[0;32m   1784\u001b[0m     \u001b[38;5;66;03m#  DataFrame._consolidate_inplace, otherwise we will fail to invalidate\u001b[39;00m\n\u001b[0;32m   1785\u001b[0m     \u001b[38;5;66;03m#  the DataFrame's _item_cache. The exception is for newly-created\u001b[39;00m\n\u001b[0;32m   1786\u001b[0m     \u001b[38;5;66;03m#  BlockManager objects not yet attached to a DataFrame.\u001b[39;00m\n\u001b[0;32m   1787\u001b[0m     \u001b[38;5;28;01mif\u001b[39;00m \u001b[38;5;129;01mnot\u001b[39;00m \u001b[38;5;28mself\u001b[39m\u001b[38;5;241m.\u001b[39mis_consolidated():\n\u001b[1;32m-> 1788\u001b[0m         \u001b[38;5;28mself\u001b[39m\u001b[38;5;241m.\u001b[39mblocks \u001b[38;5;241m=\u001b[39m _consolidate(\u001b[38;5;28mself\u001b[39m\u001b[38;5;241m.\u001b[39mblocks)\n\u001b[0;32m   1789\u001b[0m         \u001b[38;5;28mself\u001b[39m\u001b[38;5;241m.\u001b[39m_is_consolidated \u001b[38;5;241m=\u001b[39m \u001b[38;5;28;01mTrue\u001b[39;00m\n\u001b[0;32m   1790\u001b[0m         \u001b[38;5;28mself\u001b[39m\u001b[38;5;241m.\u001b[39m_known_consolidated \u001b[38;5;241m=\u001b[39m \u001b[38;5;28;01mTrue\u001b[39;00m\n",
      "File \u001b[1;32m~\\anaconda3\\Lib\\site-packages\\pandas\\core\\internals\\managers.py:2269\u001b[0m, in \u001b[0;36m_consolidate\u001b[1;34m(blocks)\u001b[0m\n\u001b[0;32m   2267\u001b[0m new_blocks: \u001b[38;5;28mlist\u001b[39m[Block] \u001b[38;5;241m=\u001b[39m []\n\u001b[0;32m   2268\u001b[0m \u001b[38;5;28;01mfor\u001b[39;00m (_can_consolidate, dtype), group_blocks \u001b[38;5;129;01min\u001b[39;00m grouper:\n\u001b[1;32m-> 2269\u001b[0m     merged_blocks, _ \u001b[38;5;241m=\u001b[39m _merge_blocks(\n\u001b[0;32m   2270\u001b[0m         \u001b[38;5;28mlist\u001b[39m(group_blocks), dtype\u001b[38;5;241m=\u001b[39mdtype, can_consolidate\u001b[38;5;241m=\u001b[39m_can_consolidate\n\u001b[0;32m   2271\u001b[0m     )\n\u001b[0;32m   2272\u001b[0m     new_blocks \u001b[38;5;241m=\u001b[39m extend_blocks(merged_blocks, new_blocks)\n\u001b[0;32m   2273\u001b[0m \u001b[38;5;28;01mreturn\u001b[39;00m \u001b[38;5;28mtuple\u001b[39m(new_blocks)\n",
      "File \u001b[1;32m~\\anaconda3\\Lib\\site-packages\\pandas\\core\\internals\\managers.py:2301\u001b[0m, in \u001b[0;36m_merge_blocks\u001b[1;34m(blocks, dtype, can_consolidate)\u001b[0m\n\u001b[0;32m   2298\u001b[0m     new_values \u001b[38;5;241m=\u001b[39m bvals2[\u001b[38;5;241m0\u001b[39m]\u001b[38;5;241m.\u001b[39m_concat_same_type(bvals2, axis\u001b[38;5;241m=\u001b[39m\u001b[38;5;241m0\u001b[39m)\n\u001b[0;32m   2300\u001b[0m argsort \u001b[38;5;241m=\u001b[39m np\u001b[38;5;241m.\u001b[39margsort(new_mgr_locs)\n\u001b[1;32m-> 2301\u001b[0m new_values \u001b[38;5;241m=\u001b[39m new_values[argsort]\n\u001b[0;32m   2302\u001b[0m new_mgr_locs \u001b[38;5;241m=\u001b[39m new_mgr_locs[argsort]\n\u001b[0;32m   2304\u001b[0m bp \u001b[38;5;241m=\u001b[39m BlockPlacement(new_mgr_locs)\n",
      "\u001b[1;31mMemoryError\u001b[0m: Unable to allocate 6.06 GiB for an array with shape (99994, 65125) and data type bool"
     ]
    }
   ],
   "source": [
    "import pandas as pd\n",
    "import seaborn as sns\n",
    "import matplotlib.pyplot as plt\n",
    "\n",
    "# Kategorik sütunları sayısal verilere dönüştürme (One-Hot Encoding)\n",
    "data_encoded = pd.get_dummies(data, drop_first=True)\n",
    "\n",
    "# Korelasyon matrisi oluşturma\n",
    "corr_matrix = data_encoded.corr()\n",
    "\n",
    "# Değerlendirme puanı ile en çok korelasyonu olan özellikleri bul\n",
    "plt.figure(figsize=(12,8))\n",
    "sns.heatmap(corr_matrix[['Degerlendirme Puani']].sort_values(by='Degerlendirme Puani', ascending=False), annot=True, cmap='coolwarm')\n",
    "plt.show()"
   ]
  },
  {
   "cell_type": "code",
   "execution_count": null,
   "id": "e24eabed-7049-419c-a522-5a2389c0b2ae",
   "metadata": {},
   "outputs": [],
   "source": []
  }
 ],
 "metadata": {
  "kernelspec": {
   "display_name": "Python 3 (ipykernel)",
   "language": "python",
   "name": "python3"
  },
  "language_info": {
   "codemirror_mode": {
    "name": "ipython",
    "version": 3
   },
   "file_extension": ".py",
   "mimetype": "text/x-python",
   "name": "python",
   "nbconvert_exporter": "python",
   "pygments_lexer": "ipython3",
   "version": "3.12.4"
  }
 },
 "nbformat": 4,
 "nbformat_minor": 5
}
